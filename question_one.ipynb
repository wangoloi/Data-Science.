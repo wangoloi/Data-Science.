{
 "cells": [
  {
   "attachments": {},
   "cell_type": "markdown",
   "id": "779d3d0c-8cc0-4f5e-ae79-71d6c1a638b8",
   "metadata": {},
   "source": [
    "CRISP-DM Pipeline for HousingData.xlsx\n",
    "1. Business Understanding\n",
    "\n",
    "The main goal is to analyze housing and neighborhood data to understand how socio-economic, environmental, and infrastructural factors interact.\n",
    "Applications include:\n",
    "\n",
    "Clustering neighborhoods with similar socio-economic conditions.\n",
    "\n",
    "Identifying important factors influencing housing-related challenges.\n",
    "\n",
    "Supporting decision-making in urban planning and real estate."
   ]
  },
  {
   "cell_type": "code",
   "execution_count": 1,
   "id": "323cd3c1-a0e0-4ac8-b40e-a9be8aad9b94",
   "metadata": {},
   "outputs": [],
   "source": [
    "# Importing necessary libraries\n",
    "import pandas as pd\n",
    "import numpy as np\n",
    "import matplotlib.pyplot as plt\n",
    "import seaborn as sns\n",
    "from sklearn.model_selection import train_test_split, cross_val_score\n",
    "from sklearn.preprocessing import StandardScaler\n",
    "from sklearn.impute import SimpleImputer\n",
    "from sklearn.cluster import KMeans\n",
    "from sklearn.metrics import silhouette_score, mean_squared_error, r2_score, mean_absolute_error\n",
    "from sklearn.linear_model import LinearRegression, Ridge\n",
    "from sklearn.ensemble import RandomForestRegressor\n",
    "from math import sqrt"
   ]
  },
  {
   "cell_type": "markdown",
   "id": "2365a539-613a-4bd0-b37d-1e9658326621",
   "metadata": {},
   "source": [
    "2. Data Understanding"
   ]
  },
  {
   "cell_type": "code",
   "execution_count": 2,
   "id": "6ea4e09c-8afb-4603-b0ce-d85c376bcc7b",
   "metadata": {},
   "outputs": [],
   "source": [
    "# loading the dataset\n",
    "df = pd.read_excel(\"C:/Users/HP/Big Data/Assignments/Assignment2/HousingData.xlsx\")"
   ]
  },
  {
   "cell_type": "code",
   "execution_count": 3,
   "id": "46e9bb9f-5dad-41d9-bc20-75847384933a",
   "metadata": {},
   "outputs": [
    {
     "name": "stdout",
     "output_type": "stream",
     "text": [
      "df shape (506, 15)\n"
     ]
    }
   ],
   "source": [
    "# Quick overview\n",
    "print(\"df shape\", df.shape)"
   ]
  },
  {
   "cell_type": "code",
   "execution_count": 4,
   "id": "248a81ea-1169-49e5-a0e2-168bcc035f32",
   "metadata": {},
   "outputs": [
    {
     "name": "stdout",
     "output_type": "stream",
     "text": [
      "   PID     CRIM    AC  INDUS   LS     PR     RM   AGE     DIS  RAD  PTRATIO  \\\n",
      "0  101  0.00632  18.0   2.31  0.0  0.538  6.575  65.2  4.0900  1.0     15.3   \n",
      "1  102  0.02731   0.0   7.07  0.0  0.469  6.421  78.9  4.9671  2.0     17.8   \n",
      "2  103  0.02729   0.0   7.07  0.0  0.469  7.185  61.1  4.9671  2.0     17.8   \n",
      "3  104  0.03237   0.0   2.18  0.0  0.458  6.998  45.8  6.0622  3.0     18.7   \n",
      "4  105  0.06905   0.0   2.18  0.0  0.458  7.147  54.2  6.0622  3.0     18.7   \n",
      "\n",
      "      DMT  LSTAT   MO    TAX  \n",
      "0  396.90   4.98  2.0  296.0  \n",
      "1  396.90   9.14  2.0  242.0  \n",
      "2  292.40   4.03  3.0  242.0  \n",
      "3  394.63   2.94  0.0  222.0  \n",
      "4  396.90   5.33  0.0  222.0  \n"
     ]
    }
   ],
   "source": [
    "# printing the first five rows of the dataset\n",
    "print(df.head())"
   ]
  },
  {
   "cell_type": "code",
   "execution_count": 5,
   "id": "94adda1c-bacd-4492-9d9e-97c6b18e7fdd",
   "metadata": {},
   "outputs": [
    {
     "name": "stdout",
     "output_type": "stream",
     "text": [
      "              PID        CRIM          AC       INDUS          LS          PR  \\\n",
      "count  506.000000  504.000000  506.000000  506.000000  504.000000  503.000000   \n",
      "mean   353.500000    3.604056   11.363636   11.136779    0.069444    0.554164   \n",
      "std    146.213884    8.609134   23.322453    6.860353    0.254461    0.115830   \n",
      "min    101.000000    0.006320    0.000000    0.460000    0.000000    0.385000   \n",
      "25%    227.250000    0.082155    0.000000    5.190000    0.000000    0.449000   \n",
      "50%    353.500000    0.256510    0.000000    9.690000    0.000000    0.538000   \n",
      "75%    479.750000    3.674808   12.500000   18.100000    0.000000    0.624000   \n",
      "max    606.000000   88.976200  100.000000   27.740000    1.000000    0.871000   \n",
      "\n",
      "               RM        AGE         DIS         RAD     PTRATIO         DMT  \\\n",
      "count  502.000000  502.00000  503.000000  504.000000  503.000000  502.000000   \n",
      "mean     6.285307   68.53008    3.796207    9.492063   18.443539  305.414530   \n",
      "std      0.704098   28.13882    2.103234    8.676649    2.165602  142.836519   \n",
      "min      3.561000    2.90000    1.129600    1.000000   12.600000    0.320000   \n",
      "25%      5.885500   45.02500    2.100350    4.000000   17.350000  293.572500   \n",
      "50%      6.208500   77.50000    3.215700    5.000000   19.000000  386.910000   \n",
      "75%      6.623500   93.97500    5.164950   24.000000   20.200000  394.997500   \n",
      "max      8.780000  100.00000   12.126500   24.000000   22.000000  396.900000   \n",
      "\n",
      "            LSTAT          MO         TAX  \n",
      "count  505.000000  504.000000  505.000000  \n",
      "mean    12.654099    0.644841  407.726733  \n",
      "std      7.148104    1.794307  168.312294  \n",
      "min      1.730000    0.000000  187.000000  \n",
      "25%      6.930000    0.000000  279.000000  \n",
      "50%     11.340000    0.000000  330.000000  \n",
      "75%     16.960000    0.000000  666.000000  \n",
      "max     37.970000   19.000000  711.000000  \n"
     ]
    }
   ],
   "source": [
    "# Summary statistics\n",
    "print(df.describe())"
   ]
  },
  {
   "cell_type": "code",
   "execution_count": 6,
   "id": "5c55c688-c60f-47ce-b6d8-835764101269",
   "metadata": {},
   "outputs": [
    {
     "name": "stdout",
     "output_type": "stream",
     "text": [
      "PID        0\n",
      "CRIM       2\n",
      "AC         0\n",
      "INDUS      0\n",
      "LS         2\n",
      "PR         3\n",
      "RM         4\n",
      "AGE        4\n",
      "DIS        3\n",
      "RAD        2\n",
      "PTRATIO    3\n",
      "DMT        4\n",
      "LSTAT      1\n",
      "MO         2\n",
      "TAX        1\n",
      "dtype: int64\n"
     ]
    }
   ],
   "source": [
    "# Check missing values.Counts missing values per column.\n",
    "print(df.isnull().sum())"
   ]
  },
  {
   "cell_type": "markdown",
   "id": "06112e7a-172a-44b1-a1b9-7b566ece31cb",
   "metadata": {},
   "source": [
    "Where there is non-zero values, it means we must clean/fill them before analysis. we can use mean to handle those missing values."
   ]
  },
  {
   "cell_type": "markdown",
   "id": "2680ad06-cdb4-4f98-bc55-21a6e3dbfbe9",
   "metadata": {},
   "source": [
    "3. Data Preparation"
   ]
  },
  {
   "cell_type": "code",
   "execution_count": 7,
   "id": "2c70e6f3-7fa1-431b-8203-7dcba445e699",
   "metadata": {},
   "outputs": [],
   "source": [
    "# Handling missing values (because, i found many)\n",
    "df = df.fillna(df.mean())"
   ]
  },
  {
   "cell_type": "markdown",
   "id": "970727ce-e77b-412b-9d7e-5813e17bb57f",
   "metadata": {},
   "source": [
    "That above replaces missing values with the mean of each column"
   ]
  },
  {
   "cell_type": "code",
   "execution_count": 8,
   "id": "9176f12b-13a7-4986-a011-2a5fb353c0f1",
   "metadata": {},
   "outputs": [],
   "source": [
    "# Select numeric features\n",
    "features = df.select_dtypes(include=['float64', 'int64'])"
   ]
  },
  {
   "cell_type": "code",
   "execution_count": 9,
   "id": "9643e3da-e27e-428c-8d19-2d77a920c3b1",
   "metadata": {},
   "outputs": [],
   "source": [
    "# Standardize\n",
    "scaler = StandardScaler()\n",
    "scaled_data = scaler.fit_transform(features)"
   ]
  },
  {
   "cell_type": "code",
   "execution_count": 10,
   "id": "ef2c42fb-b24e-4e44-8d85-81662899d107",
   "metadata": {},
   "outputs": [
    {
     "name": "stdout",
     "output_type": "stream",
     "text": [
      "        PID      CRIM        AC     INDUS        LS        PR        RM  \\\n",
      "0 -1.728631 -0.419142  0.284830 -1.287909 -0.273721 -0.140108  0.413487   \n",
      "1 -1.721785 -0.416697 -0.487722 -0.593381 -0.273721 -0.738179  0.193679   \n",
      "2 -1.714939 -0.416699 -0.487722 -0.593381 -0.273721 -0.738179  1.284157   \n",
      "3 -1.708093 -0.416107 -0.487722 -1.306878 -0.273721 -0.833524  1.017246   \n",
      "4 -1.701247 -0.411834 -0.487722 -1.306878 -0.273721 -0.833524  1.229918   \n",
      "\n",
      "        AGE       DIS       RAD   PTRATIO       DMT     LSTAT        MO  \\\n",
      "0 -0.118934  0.140242 -0.981641 -1.457349  0.643679 -1.075713  0.757504   \n",
      "1  0.370362  0.558924 -0.866045 -0.298345  0.643679 -0.492587  0.757504   \n",
      "2 -0.265365  0.558924 -0.866045 -0.298345 -0.091568 -1.208879  1.316482   \n",
      "3 -0.811805  1.081669 -0.750450  0.118896  0.627707 -1.361669 -0.360452   \n",
      "4 -0.511799  1.081669 -0.750450  0.118896  0.643679 -1.026652 -0.360452   \n",
      "\n",
      "        TAX  \n",
      "0 -0.665122  \n",
      "1 -0.986590  \n",
      "2 -0.986590  \n",
      "3 -1.105652  \n",
      "4 -1.105652  \n"
     ]
    }
   ],
   "source": [
    "# Convert back to DataFrame\n",
    "df_scaled = pd.DataFrame(scaled_data, columns=features.columns)\n",
    "print(df_scaled.head())"
   ]
  },
  {
   "cell_type": "markdown",
   "id": "04010aca-a765-4933-8879-84787fc663a6",
   "metadata": {},
   "source": [
    "4. Modeling\n",
    "(a) Clustering (K-Means)"
   ]
  },
  {
   "cell_type": "code",
   "execution_count": 11,
   "id": "b884f878-8ddb-4e07-98c4-8c31c1d4a66a",
   "metadata": {},
   "outputs": [
    {
     "name": "stdout",
     "output_type": "stream",
     "text": [
      "Cluster\n",
      "2    208\n",
      "0    162\n",
      "1    136\n",
      "Name: count, dtype: int64\n"
     ]
    }
   ],
   "source": [
    "# Apply KMeans\n",
    "kmeans = KMeans(n_clusters=3, random_state=42)\n",
    "df_scaled[\"Cluster\"] = kmeans.fit_predict(df_scaled)\n",
    "\n",
    "print(df_scaled[\"Cluster\"].value_counts())"
   ]
  },
  {
   "cell_type": "markdown",
   "id": "649c283e-e960-4c72-935e-80f24cc902cd",
   "metadata": {},
   "source": [
    "That above shows how many neighborhoods belong to each cluster."
   ]
  },
  {
   "cell_type": "markdown",
   "id": "048fc35d-770c-4736-9d0d-6ddadb9df0ee",
   "metadata": {},
   "source": [
    "(b) Correlation Analysis"
   ]
  },
  {
   "cell_type": "code",
   "execution_count": 12,
   "id": "8b76bfba-1285-4bd0-a0f1-569f2a0b531e",
   "metadata": {},
   "outputs": [
    {
     "data": {
      "image/png": "[encoded data removed]",
      "text/plain": [
       "<Figure size 1000x800 with 2 Axes>"
      ]
     },
     "metadata": {},
     "output_type": "display_data"
    }
   ],
   "source": [
    "# Correlation matrix\n",
    "corr = df.corr()\n",
    "\n",
    "plt.figure(figsize=(10,8))\n",
    "plt.imshow(corr, cmap=\"coolwarm\", interpolation=\"nearest\")\n",
    "plt.colorbar()\n",
    "plt.title(\"Correlation Heatmap\")\n",
    "plt.show()"
   ]
  },
  {
   "cell_type": "markdown",
   "id": "5cc56044-886c-4b1f-96ce-78600ed70424",
   "metadata": {},
   "source": [
    "The heatmap shows how variables are related:\n",
    "\n",
    "Dark red = strong positive correlation (when one increases, the other increases).\n",
    "\n",
    "Dark blue = strong negative correlation (when one increases, the other decreases).\n",
    "\n",
    "That shows:\n",
    "LSTAT (low-status population %) and CRIM → positive correlation (poorer areas have more crime).\n",
    "\n",
    "RM (rooms per dwelling) and PR (pollution) → negative correlation (better housing areas often have less pollution).\n",
    "\n",
    "PTRATIO (pupil–teacher ratio) and LSTAT → positive correlation (poorer areas often have worse education)."
   ]
  },
  {
   "cell_type": "markdown",
   "id": "64899ed1-f791-42fe-9c45-0570a1d19bf5",
   "metadata": {},
   "source": [
    "(c) Simple Regression"
   ]
  },
  {
   "cell_type": "code",
   "execution_count": 13,
   "id": "1e9ba1ad-90d4-4da5-b464-7c8460258148",
   "metadata": {},
   "outputs": [
    {
     "name": "stdout",
     "output_type": "stream",
     "text": [
      "Coefficients: [ 0.00496463 -0.03604179]\n",
      "Intercept: 0.7628053161097075\n",
      "R^2 Score: 0.2195710337289014\n"
     ]
    }
   ],
   "source": [
    "# Predict Pollution (PR) using Crime (CRIM) and Rooms (RM)\n",
    "X = df[[\"CRIM\", \"RM\"]]\n",
    "y = df[\"PR\"]\n",
    "\n",
    "model = LinearRegression()\n",
    "model.fit(X, y)\n",
    "\n",
    "print(\"Coefficients:\", model.coef_)\n",
    "print(\"Intercept:\", model.intercept_)\n",
    "print(\"R^2 Score:\", model.score(X, y))"
   ]
  },
  {
   "cell_type": "markdown",
   "id": "6c74114c-19a1-46b3-8655-9c3dc2ea824c",
   "metadata": {},
   "source": [
    "1. Coefficients\n",
    "0.00496463 (for CRIM):\n",
    "This is a positive coefficient; As crime rate increases, pollution (PR) also tends to increase slightly.\n",
    "\n",
    "-0.03604179 (for RM):\n",
    "This is a negative coefficient; As the number of rooms increases (better housing quality), pollution tends to decrease.\n",
    "\n",
    "2. Intercept =  0.7628053161097075\n",
    "This is the baseline pollution level (PR) when both CRIM and RM are 0.\n",
    "\n",
    "It’s just a starting point for the regression line and is less important than the coefficients.\n",
    "\n",
    "3. R² Score = 0.22\n",
    "R² tells us how much of the variation in pollution is explained by crime + rooms.\n",
    "Here it is 0.22 = 22%, which is quite low.\n",
    "\n",
    "That means: crime rate and number of rooms only explain 22% of the pollution differences; other factors (like industry, traffic, geography, among others.) are also important."
   ]
  },
  {
   "cell_type": "code",
   "execution_count": null,
   "id": "37c78d1f-54ad-4ede-9d18-bf4efc9b9180",
   "metadata": {},
   "outputs": [],
   "source": []
  }
 ],
 "metadata": {
  "kernelspec": {
   "display_name": "Python 3 (ipykernel)",
   "language": "python",
   "name": "python3"
  },
  "language_info": {
   "codemirror_mode": {
    "name": "ipython",
    "version": 3
   },
   "file_extension": ".py",
   "mimetype": "text/x-python",
   "name": "python",
   "nbconvert_exporter": "python",
   "pygments_lexer": "ipython3",
   "version": "3.12.5"
  }
 },
 "nbformat": 4,
 "nbformat_minor": 5
}
