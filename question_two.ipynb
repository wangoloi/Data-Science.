{
 "cells": [
  {
   "cell_type": "markdown",
   "id": "a64cbae0",
   "metadata": {},
   "source": [
    "\n",
    "**Association Rule Mining (ARM)** is a fundamental data mining technique used to discover interesting relationships, patterns, and associations among items in large datasets. This technique is particularly valuable in agricultural research where understanding the relationships between different farming practices, fertilizers, and seasonal patterns can lead to improved crop yields and more efficient resource utilization.\n",
    "\n",
    " **Background and Motivation**\n",
    "\n",
    "In agricultural systems, the relationship between fertilizer usage and seasonal variations is crucial for optimizing crop production. Cassava, being a staple crop in many regions, requires careful management of nutrients across different growing seasons. Understanding these associations can help farmers:\n",
    "\n",
    "1. **Optimize fertilizer application timing** across different seasons\n",
    "2. **Identify complementary fertilizer combinations** that work well together\n",
    "3. **Reduce costs** by avoiding redundant or conflicting fertilizer applications\n",
    "4. **Improve yield predictions** based on seasonal fertilizer patterns\n",
    "\n",
    " **Association Rule Mining Overview**\n",
    "\n",
    "Association Rule Mining follows the general form: **IF {antecedent} THEN {consequent}**\n",
    "\n",
    "Where:\n",
    "- **Antecedent**: The condition or set of conditions (e.g., specific fertilizers used in Season 1)\n",
    "- **Consequent**: The result or outcome (e.g., fertilizers used in Season 2)\n",
    "- **Support**: Frequency of occurrence of the rule in the dataset\n",
    "- **Confidence**: Probability that the consequent occurs given the antecedent\n",
    "- **Lift**: Measure of how much more likely the consequent is given the antecedent\n",
    "\n",
    " **Methodology**\n",
    "This analysis employs the **Apriori Algorithm**, one of the most widely used algorithms for association rule mining. The Apriori algorithm works by:\n",
    "\n",
    "1. **Finding frequent itemsets** that meet a minimum support threshold\n",
    "2. **Generating association rules** from these frequent itemsets\n",
    "3. **Evaluating rule quality** using confidence and lift metrics\n",
    "4. **Filtering rules** based on minimum thresholds"
   ]
  },
  {
   "cell_type": "code",
   "execution_count": 1,
   "id": "e941bb02-882d-424a-a52f-0a018f150685",
   "metadata": {},
   "outputs": [],
   "source": [
    "#importing libraries\n",
    "import pandas as pd\n",
    "from mlxtend.frequent_patterns import apriori\n",
    "from mlxtend.frequent_patterns import association_rules\n",
    "from mlxtend.preprocessing import TransactionEncoder\n"
   ]
  },
  {
   "cell_type": "markdown",
   "id": "527b4b90-88ca-448d-90b1-8cd4b7f6594f",
   "metadata": {},
   "source": [
    "Step 1: Create a dataframe and read the excel file."
   ]
  },
  {
   "cell_type": "code",
   "execution_count": 2,
   "id": "dc1a9f2e-2384-4ab3-aaf4-747e3cbc2a35",
   "metadata": {},
   "outputs": [],
   "source": [
    "\n",
    "df = pd.read_excel(\"C:/Users/HP/Big Data/Assignments/Assignment2/Cassava_Yield_Data.xlsx\")"
   ]
  },
  {
   "cell_type": "code",
   "execution_count": 3,
   "id": "015326da-3e5a-4032-8057-9e63555f7eef",
   "metadata": {},
   "outputs": [
    {
     "name": "stdout",
     "output_type": "stream",
     "text": [
      "   Sesn  locn  block  rep tillage    ferT  Plants_harvested  No_bigtubers  \\\n",
      "0     2     1      1    1     conv  F2150                28             0   \n",
      "1     2     1      1    1     conv  F1100                28             0   \n",
      "2     2     1      1    1     conv  F3200                28             2   \n",
      "3     2     1      1    1     conv  F5300                28             6   \n",
      "4     2     1      1    1     conv  F4250                28             3   \n",
      "\n",
      "   Weigh_bigtubers  No_mediumtubers  Weight_mediumtubers  No_smalltubers  \\\n",
      "0              0.0               61                  2.5             319   \n",
      "1              0.0              110                  4.6             260   \n",
      "2              0.2              115                  5.2             319   \n",
      "3              0.7               60                  2.7             303   \n",
      "4              0.3               82                  3.4             332   \n",
      "\n",
      "   Weight_smalltubers  Totaltuberno  AV_tubers_Plant  Total_tubweight  \\\n",
      "0                 4.7           380        13.571429              7.2   \n",
      "1                 4.0           370        13.214286              8.6   \n",
      "2                 4.4           436        15.571429              9.8   \n",
      "3                 4.8           369        13.178571              8.2   \n",
      "4                 4.7           417        14.892857              8.4   \n",
      "\n",
      "   plotsize    HEC  TotalWeightperhectare  TotalTuberperHectare  \n",
      "0       5.3  10000           13584.905660         716981.132075  \n",
      "1       5.3  10000           16226.415094         698113.207547  \n",
      "2       5.3  10000           18490.566038         822641.509434  \n",
      "3       5.3  10000           15471.698113         696226.415094  \n",
      "4       5.3  10000           15849.056604         786792.452830  \n"
     ]
    }
   ],
   "source": [
    "print(df.head())"
   ]
  },
  {
   "cell_type": "code",
   "execution_count": 7,
   "id": "b24bfe44-ce58-4a16-8bae-ff6f51e86532",
   "metadata": {},
   "outputs": [
    {
     "name": "stdout",
     "output_type": "stream",
     "text": [
      "(115, 20)\n"
     ]
    }
   ],
   "source": [
    "print(df.shape)"
   ]
  },
  {
   "cell_type": "code",
   "execution_count": 9,
   "id": "e0c82c14-ccfd-4018-bb37-2dc1685bf8f1",
   "metadata": {},
   "outputs": [
    {
     "data": {
      "text/plain": [
       "Sesn                     0\n",
       "locn                     0\n",
       "block                    0\n",
       "rep                      0\n",
       "tillage                  0\n",
       "ferT                     0\n",
       "Plants_harvested         0\n",
       "No_bigtubers             0\n",
       "Weigh_bigtubers          0\n",
       "No_mediumtubers          0\n",
       "Weight_mediumtubers      0\n",
       "No_smalltubers           0\n",
       "Weight_smalltubers       0\n",
       "Totaltuberno             0\n",
       "AV_tubers_Plant          0\n",
       "Total_tubweight          0\n",
       "plotsize                 0\n",
       "HEC                      0\n",
       "TotalWeightperhectare    0\n",
       "TotalTuberperHectare     0\n",
       "dtype: int64"
      ]
     },
     "execution_count": 9,
     "metadata": {},
     "output_type": "execute_result"
    }
   ],
   "source": [
    "# checking for missing values or data\n",
    "df.isna().sum()"
   ]
  },
  {
   "cell_type": "markdown",
   "id": "8d3df069-9ce0-461d-9d6f-c33b99ebe921",
   "metadata": {},
   "source": [
    "Step 2: Converting (fertiliser + season) to transactions  as strings"
   ]
  },
  {
   "cell_type": "code",
   "execution_count": 10,
   "id": "481a738f-f46f-465e-9417-cf55072af7cf",
   "metadata": {},
   "outputs": [
    {
     "name": "stdout",
     "output_type": "stream",
     "text": [
      "[['2', 'F2150'], ['2', 'F1100'], ['2', 'F3200'], ['2', 'F5300'], ['2', 'F4250'], ['2', 'F5300'], ['2', 'F3200'], ['2', 'F4250'], ['2', 'F1100'], ['2', 'F2150'], ['2', 'F4250'], ['2', 'F5300'], ['2', 'F2150'], ['2', 'F3200'], ['2', 'F1100'], ['2', 'F2150'], ['2', 'F1100'], ['2', 'F3200'], ['2', 'F5300'], ['2', 'F4250'], ['2', 'F5300'], ['2', 'F3200'], ['2', 'F4250'], ['2', 'F1100'], ['2', 'F2150'], ['2', 'F4250'], ['2', 'F5300'], ['2', 'F2150'], ['2', 'F3200'], ['2', 'F1100'], ['1', 'F1100'], ['1', 'F3200'], ['1', 'F2150'], ['1', 'F4250'], ['1', 'F5300'], ['1', 'F1100'], ['1', 'F3200'], ['1', 'F2150'], ['1', 'F4250'], ['1', 'F5300'], ['1', 'F1100'], ['1', 'F3200'], ['1', 'F2150'], ['1', 'F4250'], ['1', 'F5300'], ['1', 'F1100'], ['1', 'F3200'], ['1', 'F2150'], ['1', 'F4250'], ['1', 'F5300'], ['1', 'F1100'], ['1', 'F3200'], ['1', 'F2150'], ['1', 'F4250'], ['1', 'F5300'], ['1', 'F1100'], ['1', 'F3200'], ['1', 'F2150'], ['1', 'F4250'], ['1', 'F5300'], ['1', 'F1100'], ['1', 'F3200'], ['1', 'F2150'], ['1', 'F4250'], ['1', 'F5300'], ['1', 'F1100'], ['1', 'F3200'], ['1', 'F2150'], ['1', 'F4250'], ['1', 'F5300'], ['1', 'F1100'], ['1', 'F3200'], ['1', 'F2150'], ['1', 'F4250'], ['1', 'F5300'], ['1', 'F1100'], ['1', 'F3200'], ['1', 'F2150'], ['1', 'F4250'], ['1', 'F5300'], ['1', 'F1100'], ['1', 'F3200'], ['1', 'F2150'], ['1', 'F5300'], ['1', 'F4250'], ['2', 'F1100'], ['2', 'F5300'], ['2', 'F4250'], ['2', 'F3200'], ['2', 'F2150'], ['2', 'F1100'], ['2', 'F5300'], ['2', 'F4250'], ['2', 'F3200'], ['2', 'F2150'], ['2', 'F1100'], ['2', 'F2150'], ['2', 'F4250'], ['2', 'F5300'], ['2', 'F3200'], ['2', 'F1100'], ['2', 'F2150'], ['2', 'F4250'], ['2', 'F5300'], ['2', 'F3200'], ['2', 'F1100'], ['2', 'F4250'], ['2', 'F3200'], ['2', 'F5300'], ['2', 'F2150'], ['2', 'F1100'], ['2', 'F5300'], ['2', 'F2150'], ['2', 'F4250'], ['2', 'F3200']]\n"
     ]
    }
   ],
   "source": [
    "transactions = df[['Sesn','ferT']].astype(str).values.tolist()\n",
    "print(transactions)"
   ]
  },
  {
   "cell_type": "markdown",
   "id": "ca75a5a8-6d43-4fe1-b70f-edcf9fb7cbfe",
   "metadata": {},
   "source": [
    "Step 3: One-hot encode"
   ]
  },
  {
   "cell_type": "code",
   "execution_count": 11,
   "id": "85ec74db-b44e-4a8c-89ad-abc4e6d69381",
   "metadata": {},
   "outputs": [],
   "source": [
    "te = TransactionEncoder()\n",
    "te_data = te.fit(transactions).transform(transactions)\n",
    "df1 = pd.DataFrame(te_data, columns=te.columns_)\n"
   ]
  },
  {
   "cell_type": "markdown",
   "id": "2b589c5c-ec37-4b7c-8176-706940c3e9e4",
   "metadata": {},
   "source": [
    "Step 4: Frequent itemsets"
   ]
  },
  {
   "cell_type": "code",
   "execution_count": 13,
   "id": "b2929c45-266b-4fa5-a992-94527316c589",
   "metadata": {},
   "outputs": [],
   "source": [
    "frequent_itemsets = apriori(df1, min_support=0.05, use_colnames=True)"
   ]
  },
  {
   "cell_type": "markdown",
   "id": "8c0cd2a2-f7d0-4c15-b09b-e82f5d4e0786",
   "metadata": {},
   "source": [
    "Step 5: Association rules"
   ]
  },
  {
   "cell_type": "code",
   "execution_count": 14,
   "id": "1e4aa01a-efcb-4731-94c5-b96212083083",
   "metadata": {},
   "outputs": [],
   "source": [
    "rules = association_rules(frequent_itemsets, metric=\"confidence\", min_threshold=0.1)"
   ]
  },
  {
   "cell_type": "markdown",
   "id": "0105500c-d528-47e2-9eda-03b60501a2a7",
   "metadata": {},
   "source": [
    "Step 6: Unique fertilisers and seasons"
   ]
  },
  {
   "cell_type": "code",
   "execution_count": 15,
   "id": "8d772936-f137-45c0-860c-7324a6421bca",
   "metadata": {},
   "outputs": [],
   "source": [
    "ferT = df['ferT'].astype(str).unique().tolist()\n",
    "Sesn = df['Sesn'].astype(str).unique().tolist()"
   ]
  },
  {
   "cell_type": "markdown",
   "id": "099ed437-c353-4b7c-93a1-d467051a5122",
   "metadata": {},
   "source": [
    "Step 7: Filter fertiliser ↔ season associations"
   ]
  },
  {
   "cell_type": "code",
   "execution_count": 19,
   "id": "21d91d5d-bf04-4fc7-b038-6360c0cd3f6a",
   "metadata": {},
   "outputs": [
    {
     "name": "stdout",
     "output_type": "stream",
     "text": [
      "   antecedents consequents   support  confidence  lift\n",
      "0      (F1100)         (1)  0.095652    0.478261   1.0\n",
      "1          (1)     (F1100)  0.095652    0.200000   1.0\n",
      "2      (F2150)         (1)  0.095652    0.478261   1.0\n",
      "3          (1)     (F2150)  0.095652    0.200000   1.0\n",
      "4      (F3200)         (1)  0.095652    0.478261   1.0\n",
      "5          (1)     (F3200)  0.095652    0.200000   1.0\n",
      "6      (F4250)         (1)  0.095652    0.478261   1.0\n",
      "7          (1)     (F4250)  0.095652    0.200000   1.0\n",
      "8      (F5300)         (1)  0.095652    0.478261   1.0\n",
      "9          (1)     (F5300)  0.095652    0.200000   1.0\n",
      "10         (2)     (F1100)  0.104348    0.200000   1.0\n",
      "11     (F1100)         (2)  0.104348    0.521739   1.0\n",
      "12         (2)     (F2150)  0.104348    0.200000   1.0\n",
      "13     (F2150)         (2)  0.104348    0.521739   1.0\n",
      "14         (2)     (F3200)  0.104348    0.200000   1.0\n",
      "15     (F3200)         (2)  0.104348    0.521739   1.0\n",
      "16         (2)     (F4250)  0.104348    0.200000   1.0\n",
      "17     (F4250)         (2)  0.104348    0.521739   1.0\n",
      "18         (2)     (F5300)  0.104348    0.200000   1.0\n",
      "19     (F5300)         (2)  0.104348    0.521739   1.0\n"
     ]
    }
   ],
   "source": [
    "fert_season_rules = rules[\n",
    "    (rules['antecedents'].apply(lambda x: any(i in x for i in ferT)) &\n",
    "     rules['consequents'].apply(lambda x: any(i in x for i in Sesn))) |\n",
    "    (rules['antecedents'].apply(lambda x: any(i in x for i in Sesn)) &\n",
    "     rules['consequents'].apply(lambda x: any(i in x for i in ferT)))\n",
    "]\n",
    "\n",
    "print(fert_season_rules[['antecedents','consequents','support','confidence','lift']])"
   ]
  },
  {
   "cell_type": "markdown",
   "id": "08447553-c7b0-4d44-a4e0-96ad9130c1df",
   "metadata": {},
   "source": [
    "Since the lift value in all combinations is 1.0, that shows that, there is 'no meaningful association' between fertilizers and seasons in the dataset(Cassava_Yield)."
   ]
  }
 ],
 "metadata": {
  "kernelspec": {
   "display_name": "Python 3 (ipykernel)",
   "language": "python",
   "name": "python3"
  },
  "language_info": {
   "codemirror_mode": {
    "name": "ipython",
    "version": 3
   },
   "file_extension": ".py",
   "mimetype": "text/x-python",
   "name": "python",
   "nbconvert_exporter": "python",
   "pygments_lexer": "ipython3",
   "version": "3.12.5"
  }
 },
 "nbformat": 4,
 "nbformat_minor": 5
}
